{
  "cells": [
    {
      "cell_type": "code",
      "execution_count": 12,
      "id": "tqF7w_eN3HpO",
      "metadata": {
        "id": "tqF7w_eN3HpO"
      },
      "outputs": [],
      "source": [
        "# !pip install -U classiq==0.48"
      ]
    },
    {
      "cell_type": "code",
      "execution_count": 13,
      "id": "ybU95S503ykc",
      "metadata": {
        "id": "ybU95S503ykc"
      },
      "outputs": [],
      "source": [
        "import classiq\n",
        "# classiq.authenticate()"
      ]
    },
    {
      "cell_type": "markdown",
      "id": "e7682d31-1cf2-4c6d-98b7-75fadfefb6bc",
      "metadata": {
        "id": "e7682d31-1cf2-4c6d-98b7-75fadfefb6bc"
      },
      "source": [
        "# High level quantum programming with Classiq"
      ]
    },
    {
      "cell_type": "markdown",
      "id": "01dfc0bf-5fdb-4d52-8fb4-168fc930aaff",
      "metadata": {
        "id": "01dfc0bf-5fdb-4d52-8fb4-168fc930aaff"
      },
      "source": [
        "**Welcome to the Classiq Workshop for the QSITE 2024!**\n",
        "\n",
        "The topic of this presentation is:\n",
        "\n",
        "- **High level quantum programming with Classiq**\n",
        "\n",
        "**[Classiq's documentation](https://docs.classiq.io/latest/)**\n",
        "\n",
        "\n",
        "\n",
        "\n",
        "Additional resources you should use are\n",
        "- The IDE of the classiq platform at [platform.classiq.io](https://platform.classiq.io)\n",
        "- The [community Slack of Classiq](https://short.classiq.io/join-slack) - Classiq's team will answer any question you have over there, including implementation questions\n",
        "- Our [GitHub repository](https://github.com/Classiq/classiq-library/tree/main)\n",
        "\n",
        "  \n",
        "**Good luck!**"
      ]
    },
    {
      "cell_type": "markdown",
      "id": "4962a36e-bf41-48a2-9ad0-cbae90f43d98",
      "metadata": {
        "id": "4962a36e-bf41-48a2-9ad0-cbae90f43d98"
      },
      "source": [
        "## The beggining: Quantum functions and Quantum variables"
      ]
    },
    {
      "cell_type": "markdown",
      "id": "30587afe-3f19-4c1d-9f88-4a9083e3a158",
      "metadata": {
        "id": "30587afe-3f19-4c1d-9f88-4a9083e3a158"
      },
      "source": [
        "The simplest quantum object is a single qubit, representing the values 0 or 1 when measured. Other types of quantum objects are stored on multiple qubits and represent numeric values or arrays of qubits.\n",
        "\n",
        "Quantum objects are managed in Qmod using quantum variables. Variables are introduced into the scope of a quantum function through the declaration of arguments or the declaration of local variables.\n",
        "\n",
        "A quantum variable establishes its reference to some object by explicitly initializing it. This is often done by passing it as the output argument of a function, such as `allocate()`. Once initialized, the state of the variable can be modified.\n",
        "\n",
        "Quantum functions are functions that depends on quantum variables, and are defined as regular functions in python after using the decorator `@qfunc`.\n",
        "\n",
        "<details>\n",
        "<summary> Types of Quantum Variables </summary>\n",
        "In Qmod there are 3 types of quantum variables:\n",
        "\n",
        "1. `QBit` (`qbit`)\n",
        "2. `QArray[QBit]` (`qbit[]`)\n",
        "3. `QNum` (`qnum`)\n",
        "\n",
        "(See also [Quantum Variables](https://nightly.docs.classiq.io/latest/classiq_101/classiq_concepts/design/quantum_variables_and_functions/))\n",
        "</details>"
      ]
    },
    {
      "cell_type": "code",
      "execution_count": 14,
      "id": "q58PwllgW2rb",
      "metadata": {
        "id": "q58PwllgW2rb"
      },
      "outputs": [],
      "source": [
        "from classiq import *"
      ]
    },
    {
      "cell_type": "markdown",
      "id": "F1Jn-eldW7Jq",
      "metadata": {
        "id": "F1Jn-eldW7Jq"
      },
      "source": [
        "## Example: The $|-\\rangle$ state\n",
        "\n",
        "The $|-\\rangle$, also known as the \"minus state\", is important in quantum computing: It generates an equiprobable superposition of the computational basis, while having a negative phase between the states.\n",
        "\n",
        "Using Classiq, you can build a function that prepare the minus state in four lines:"
      ]
    },
    {
      "cell_type": "code",
      "execution_count": 15,
      "id": "-o-TUx87UhuP",
      "metadata": {
        "id": "-o-TUx87UhuP"
      },
      "outputs": [],
      "source": [
        "@qfunc\n",
        "def prepare_minus(q:QBit):\n",
        "  X(q)\n",
        "  H(q)"
      ]
    },
    {
      "cell_type": "markdown",
      "id": "YGdGi7d1axNA",
      "metadata": {
        "id": "YGdGi7d1axNA"
      },
      "source": [
        "And synthesize it:"
      ]
    },
    {
      "cell_type": "code",
      "execution_count": 16,
      "id": "4toFfhY7VVHw",
      "metadata": {
        "id": "4toFfhY7VVHw"
      },
      "outputs": [],
      "source": [
        "@qfunc\n",
        "def main(q:Output[QBit]):\n",
        "  allocate(1,q)\n",
        "  prepare_minus(q)\n",
        "\n",
        "qmod = create_model(main)\n",
        "qprog = synthesize(qmod)"
      ]
    },
    {
      "cell_type": "markdown",
      "id": "t5VGQcPBbNMW",
      "metadata": {
        "id": "t5VGQcPBbNMW"
      },
      "source": [
        "You can use the IDE to analyze your quantum program using the `show` command:"
      ]
    },
    {
      "cell_type": "code",
      "execution_count": 17,
      "id": "QRObWW4rbVK0",
      "metadata": {
        "id": "QRObWW4rbVK0"
      },
      "outputs": [],
      "source": [
        "show(qprog)"
      ]
    },
    {
      "cell_type": "markdown",
      "id": "zVs_E60nd2xG",
      "metadata": {
        "id": "zVs_E60nd2xG"
      },
      "source": [
        "## Before the next step: Guidelines for High-Level Functional Design with Classiq"
      ]
    },
    {
      "cell_type": "markdown",
      "id": "SDwMWhfjeP6B",
      "metadata": {
        "id": "SDwMWhfjeP6B"
      },
      "source": [
        "**Some basic explanations about the high-level functional design with Classiq:**\n",
        "\n",
        "* There should always be a `main` function - the model that captures your algorithm is described there\n",
        "\n",
        "* The model is always generated out of the main function\n",
        "\n",
        "* The model is sent to the synthesis engine (compiler) that return a quantum program which contains the quantum circuit"
      ]
    },
    {
      "cell_type": "markdown",
      "id": "_gcu_SRaeSP-",
      "metadata": {
        "id": "_gcu_SRaeSP-"
      },
      "source": [
        "**Some basic guidelines about the modeling language (QMOD):**\n",
        "\n",
        "1. Every quantum variable should be declared, either as an argument of a function e.g. `def prepare_minus(x: QBit)` or as a local variable within the function itself with `x = QBit('x')`\n",
        "\n",
        "2. Some quantum variables need to be initialized with the `allocate` function. This is required in 2 cases:\n",
        "* A variable is an argument of a function with the declaration `Output` like `def main(x: Output[QNum])`\n",
        "* A variable that was declared within a function like `a = QNum('a')`\n",
        "\n",
        "3. For the `main` function, you will always use `Output` for all variables. The `output` indicates that these quantum variables are not initialized outside the scope of the function.\n"
      ]
    },
    {
      "cell_type": "markdown",
      "id": "z-oN_0yMeWY5",
      "metadata": {
        "id": "z-oN_0yMeWY5"
      },
      "source": [
        "<details>\n",
        "<summary> Types of Initializations </summary>\n",
        "There are a few ways to initialize a quantum variable:\n",
        "\n",
        "1. With `allocate` or `allocate_num`\n",
        "2. With `prepare_int`, `prepare_state` or `prepare_amplitudes`\n",
        "3. As the result of a numeric operation `|=`\n",
        "4. With the `bind` operation (`->` in native)\n",
        "5. With any function that declares its quantum variable argument as `output`\n",
        "\n",
        "</details>"
      ]
    },
    {
      "cell_type": "markdown",
      "id": "5O5MY_U_fNKL",
      "metadata": {
        "id": "5O5MY_U_fNKL"
      },
      "source": [
        "# Tutorial 1: Preparing a state"
      ]
    },
    {
      "cell_type": "markdown",
      "id": "3UD0p2effReF",
      "metadata": {
        "id": "3UD0p2effReF"
      },
      "source": [
        "Preparing specific states is mandatory in most quantum algorithms. With this in mind, it is important to know how to prepare the initial state of a quantum program using the function `prepare_state`.\n",
        "\n",
        "Given a superposition of states with real, positive $\\{c_i\\}$:\n",
        "\n",
        "$$ |\\psi\\rangle = \\sum_{i=0}^{N} c_i |i\\rangle $$\n",
        "\n",
        "one can associate it to a probability list\n",
        "\n",
        "$$P = [|c_0|^2,|c_1|^2,\\dots,|c_{N}|^2]$$\n",
        "\n",
        "Lets see an example using 3 qubits:\n"
      ]
    },
    {
      "cell_type": "code",
      "execution_count": 18,
      "id": "L8wOJqvxhEDZ",
      "metadata": {
        "id": "L8wOJqvxhEDZ"
      },
      "outputs": [
        {
          "name": "stderr",
          "output_type": "stream",
          "text": [
            "/bin/xdg-open: 882: x-www-browser: Permission denied\n",
            "/bin/xdg-open: 882: firefox: Permission denied\n",
            "/bin/xdg-open: 882: iceweasel: Permission denied\n",
            "/bin/xdg-open: 882: seamonkey: Permission denied\n",
            "/bin/xdg-open: 882: mozilla: Permission denied\n",
            "/bin/xdg-open: 882: epiphany: Permission denied\n",
            "/bin/xdg-open: 882: konqueror: Permission denied\n",
            "/bin/xdg-open: 882: chromium: Permission denied\n",
            "/bin/xdg-open: 882: chromium-browser: Permission denied\n",
            "/bin/xdg-open: 882: google-chrome: Permission denied\n",
            "/bin/xdg-open: 882: www-browser: Permission denied\n",
            "/bin/xdg-open: 882: links2: Permission denied\n",
            "/bin/xdg-open: 882: elinks: Permission denied\n",
            "/bin/xdg-open: 882: links: Permission denied\n",
            "/bin/xdg-open: 882: lynx: Permission denied\n",
            "/bin/xdg-open: 882: w3m: Permission denied\n",
            "xdg-open: no method available for opening 'https://platform.classiq.io/circuit/438b8380-5f14-499a-9b46-e38548614023?version=0.50.0'\n"
          ]
        }
      ],
      "source": [
        "prob_list = [0.1, 0.2, 0.3, 0, 0 , 0, 0, 0.4]\n",
        "@qfunc\n",
        "def main(q:Output[QArray[QBit]]):\n",
        "  prepare_state(probabilities=prob_list, bound=0.01, out = q)\n",
        "\n",
        "qmod = create_model(main)\n",
        "qprog = synthesize(qmod)\n",
        "show(qprog)"
      ]
    },
    {
      "cell_type": "markdown",
      "id": "qnr_QWXMjX1V",
      "metadata": {
        "id": "qnr_QWXMjX1V"
      },
      "source": [
        "You can use also the `inplace_prepare_state` function when you need to execute the quantum operation necessary to prepare the state in the middle of your quantum program."
      ]
    },
    {
      "cell_type": "markdown",
      "id": "GH3oaUv_kRFF",
      "metadata": {
        "id": "GH3oaUv_kRFF"
      },
      "source": [
        "## Another example: `inplace_prepare_state` and `prepare_state`\n",
        "\n",
        "Now lets execute the operation necessary to prepare the state given by the probabilities\n",
        "\n",
        "$$P = [0.625, 0, 0, 0, 0.125, 0.125, 0.125, 0]$$\n",
        "\n",
        "in the state generated through `prob_list`:"
      ]
    },
    {
      "cell_type": "code",
      "execution_count": 19,
      "id": "wbCrDVbjjFDU",
      "metadata": {
        "id": "wbCrDVbjjFDU"
      },
      "outputs": [
        {
          "name": "stderr",
          "output_type": "stream",
          "text": [
            "/bin/xdg-open: 882: x-www-browser: Permission denied\n",
            "/bin/xdg-open: 882: firefox: Permission denied\n",
            "/bin/xdg-open: 882: iceweasel: Permission denied\n",
            "/bin/xdg-open: 882: seamonkey: Permission denied\n",
            "/bin/xdg-open: 882: mozilla: Permission denied\n",
            "/bin/xdg-open: 882: epiphany: Permission denied\n",
            "/bin/xdg-open: 882: konqueror: Permission denied\n",
            "/bin/xdg-open: 882: chromium: Permission denied\n",
            "/bin/xdg-open: 882: chromium-browser: Permission denied\n",
            "/bin/xdg-open: 882: google-chrome: Permission denied\n",
            "/bin/xdg-open: 882: www-browser: Permission denied\n",
            "/bin/xdg-open: 882: links2: Permission denied\n",
            "/bin/xdg-open: 882: elinks: Permission denied\n",
            "/bin/xdg-open: 882: links: Permission denied\n",
            "/bin/xdg-open: 882: lynx: Permission denied\n",
            "/bin/xdg-open: 882: w3m: Permission denied\n",
            "xdg-open: no method available for opening 'https://platform.classiq.io/circuit/86dfae70-93ca-482b-b54a-553161f0dac3?version=0.50.0'\n"
          ]
        }
      ],
      "source": [
        "prob_list2 = [0.625, 0, 0, 0, 0.125, 0.125, 0.125, 0]\n",
        "@qfunc\n",
        "def main(q:Output[QArray[QBit]]):\n",
        "  prepare_state(probabilities=prob_list, bound=0.01, out = q)\n",
        "  inplace_prepare_state(probabilities=prob_list2, bound= 0.01, target=q)\n",
        "\n",
        "qmod = create_model(main)\n",
        "qprog = synthesize(qmod)\n",
        "show(qprog)"
      ]
    },
    {
      "cell_type": "markdown",
      "id": "-t8SA8Vfl_OI",
      "metadata": {
        "id": "-t8SA8Vfl_OI"
      },
      "source": [
        "# Tutorial 2: Circuit optimization and arithmetic expressions.\n",
        "\n",
        "Knowing what is the optimal number of gates or qubits in a quantum program are important informations that you can easily execute using the optimization tools in Classiq. Another important tool is the ability to realize arithmetic expressions.\n",
        "\n",
        "To see the functionality of these tools, lets work on the problem of evaluating `y=x²+x+1` using a quantum program:\n"
      ]
    },
    {
      "cell_type": "code",
      "execution_count": 20,
      "id": "t4NSpAtpJoOf",
      "metadata": {
        "id": "t4NSpAtpJoOf"
      },
      "outputs": [
        {
          "name": "stderr",
          "output_type": "stream",
          "text": [
            "/bin/xdg-open: 882: x-www-browser: Permission denied\n",
            "/bin/xdg-open: 882: firefox: Permission denied\n",
            "/bin/xdg-open: 882: iceweasel: Permission denied\n",
            "/bin/xdg-open: 882: seamonkey: Permission denied\n",
            "/bin/xdg-open: 882: mozilla: Permission denied\n",
            "/bin/xdg-open: 882: epiphany: Permission denied\n",
            "/bin/xdg-open: 882: konqueror: Permission denied\n",
            "/bin/xdg-open: 882: chromium: Permission denied\n",
            "/bin/xdg-open: 882: chromium-browser: Permission denied\n",
            "/bin/xdg-open: 882: google-chrome: Permission denied\n",
            "/bin/xdg-open: 882: www-browser: Permission denied\n",
            "/bin/xdg-open: 882: links2: Permission denied\n",
            "/bin/xdg-open: 882: elinks: Permission denied\n",
            "/bin/xdg-open: 882: links: Permission denied\n",
            "/bin/xdg-open: 882: lynx: Permission denied\n",
            "/bin/xdg-open: 882: w3m: Permission denied\n",
            "xdg-open: no method available for opening 'https://platform.classiq.io/circuit/447bb289-5576-4946-806e-1e579bd89225?version=0.50.0'\n"
          ]
        }
      ],
      "source": [
        "@qfunc\n",
        "def main(x:Output[QNum],y:Output[QNum]):\n",
        "  #Initializing the variable 'x'\n",
        "  allocate(3,x)\n",
        "  #Preparing 'x' in a superposition of all possible numbers between 0 and 7\n",
        "  apply_to_all(H,x)\n",
        "  #Evaluating the arithmetic expression\n",
        "  y |= x**2+x+1\n",
        "\n",
        "qmod = create_model(main)\n",
        "qprog = synthesize(qmod)\n",
        "show(qprog)"
      ]
    },
    {
      "cell_type": "markdown",
      "id": "CthAzG1wIW_A",
      "metadata": {
        "id": "CthAzG1wIW_A"
      },
      "source": [
        "Optimization can be done by setting constraints in your circuit or defining wheter you want to optimize the depth (number of operations) or width (number of qubits) in your quantum program. Lets try to optimize the latter program in depth with a fixed width of 9 qubits:"
      ]
    },
    {
      "cell_type": "code",
      "execution_count": 21,
      "id": "HtbDASDfJ4IW",
      "metadata": {
        "id": "HtbDASDfJ4IW"
      },
      "outputs": [
        {
          "name": "stderr",
          "output_type": "stream",
          "text": [
            "/bin/xdg-open: 882: x-www-browser: Permission denied\n",
            "/bin/xdg-open: 882: firefox: Permission denied\n",
            "/bin/xdg-open: 882: iceweasel: Permission denied\n",
            "/bin/xdg-open: 882: seamonkey: Permission denied\n",
            "/bin/xdg-open: 882: mozilla: Permission denied\n",
            "/bin/xdg-open: 882: epiphany: Permission denied\n",
            "/bin/xdg-open: 882: konqueror: Permission denied\n",
            "/bin/xdg-open: 882: chromium: Permission denied\n",
            "/bin/xdg-open: 882: chromium-browser: Permission denied\n",
            "/bin/xdg-open: 882: google-chrome: Permission denied\n",
            "/bin/xdg-open: 882: www-browser: Permission denied\n",
            "/bin/xdg-open: 882: links2: Permission denied\n",
            "/bin/xdg-open: 882: elinks: Permission denied\n",
            "/bin/xdg-open: 882: links: Permission denied\n",
            "/bin/xdg-open: 882: lynx: Permission denied\n",
            "/bin/xdg-open: 882: w3m: Permission denied\n",
            "xdg-open: no method available for opening 'https://platform.classiq.io/circuit/6a9a73f9-6ce6-4ffa-9e52-aab8536cb9db?version=0.50.0'\n"
          ]
        }
      ],
      "source": [
        "constraints = Constraints(optimization_parameter=\"depth\", max_width=9)\n",
        "\n",
        "qmod = set_constraints(qmod, constraints)\n",
        "qprog = synthesize(qmod)\n",
        "show(qprog)"
      ]
    },
    {
      "cell_type": "markdown",
      "id": "-Kd0fUeYMjy0",
      "metadata": {
        "id": "-Kd0fUeYMjy0"
      },
      "source": [
        "# Your turn: Try to finish the following quantum program\n",
        "\n",
        "Using the function `prepare_state`, initialize two quantum variables `x` and `y` in the state with probabilities `P = [0.25, 0.25, 0.25, 0.25]`. After that, evaluate the arithmetic expression\n",
        "\n",
        "$$y = 0.5x+y+(y+x)^2$$\n",
        "\n",
        "and set a quantum program optimized in depth, with a maximum width of `max_width=16`."
      ]
    },
    {
      "cell_type": "code",
      "execution_count": 22,
      "id": "fa-il23KI3og",
      "metadata": {
        "id": "fa-il23KI3og"
      },
      "outputs": [
        {
          "ename": "SyntaxError",
          "evalue": "invalid syntax (3816191752.py, line 7)",
          "output_type": "error",
          "traceback": [
            "\u001b[0;36m  Cell \u001b[0;32mIn[22], line 7\u001b[0;36m\u001b[0m\n\u001b[0;31m    z |=\u001b[0m\n\u001b[0m        ^\u001b[0m\n\u001b[0;31mSyntaxError\u001b[0m\u001b[0;31m:\u001b[0m invalid syntax\n"
          ]
        },
        {
          "name": "stderr",
          "output_type": "stream",
          "text": [
            "/bin/xdg-open: 882: x-www-browser: Permission denied\n",
            "/bin/xdg-open: 882: firefox: Permission denied\n",
            "/bin/xdg-open: 882: iceweasel: Permission denied\n",
            "/bin/xdg-open: 882: seamonkey: Permission denied\n",
            "/bin/xdg-open: 882: mozilla: Permission denied\n",
            "/bin/xdg-open: 882: epiphany: Permission denied\n",
            "/bin/xdg-open: 882: konqueror: Permission denied\n",
            "/bin/xdg-open: 882: chromium: Permission denied\n",
            "/bin/xdg-open: 882: chromium-browser: Permission denied\n",
            "/bin/xdg-open: 882: google-chrome: Permission denied\n",
            "/bin/xdg-open: 882: www-browser: Permission denied\n",
            "/bin/xdg-open: 882: links2: Permission denied\n",
            "/bin/xdg-open: 882: elinks: Permission denied\n",
            "/bin/xdg-open: 882: links: Permission denied\n",
            "/bin/xdg-open: 882: lynx: Permission denied\n",
            "/bin/xdg-open: 882: w3m: Permission denied\n",
            "xdg-open: no method available for opening 'https://platform.classiq.io/circuit/0b4132e1-9703-404a-9525-84664f45e154?version=0.50.0'\n"
          ]
        }
      ],
      "source": [
        "probs = [0.25, 0.25, 0.25, 0.25]\n",
        "@qfunc\n",
        "def main(x:Output[QNum],y:Output[QNum],z:Output[QNum]):\n",
        "  #TODO: Prepare 'x' and 'y' in a superposition of all possible numbers between 0 and 3\n",
        "\n",
        "  #TODO: Evaluate the arithmetic expression\n",
        "  z |=\n",
        "\n",
        "qmod = create_model(main)\n",
        "\n",
        "constraints = Constraints(optimization_parameter=\"depth\", max_width=16)\n",
        "qmod = set_constraints(qmod, constraints)\n",
        "qprog = synthesize(qmod)\n",
        "show(qprog)"
      ]
    },
    {
      "cell_type": "code",
      "execution_count": null,
      "id": "Rxfyq6jTItvV",
      "metadata": {
        "id": "Rxfyq6jTItvV"
      },
      "outputs": [],
      "source": []
    }
  ],
  "metadata": {
    "colab": {
      "provenance": []
    },
    "kernelspec": {
      "display_name": "Python 3 (ipykernel)",
      "language": "python",
      "name": "python3"
    },
    "language_info": {
      "codemirror_mode": {
        "name": "ipython",
        "version": 3
      },
      "file_extension": ".py",
      "mimetype": "text/x-python",
      "name": "python",
      "nbconvert_exporter": "python",
      "pygments_lexer": "ipython3",
      "version": "3.10.12"
    }
  },
  "nbformat": 4,
  "nbformat_minor": 5
}
