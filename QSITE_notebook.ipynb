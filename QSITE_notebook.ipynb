{
  "cells": [
    {
      "cell_type": "code",
      "execution_count": 3,
      "id": "tqF7w_eN3HpO",
      "metadata": {
        "id": "tqF7w_eN3HpO"
      },
      "outputs": [],
      "source": [
        "# !pip install -U classiq==0.48"
      ]
    },
    {
      "cell_type": "code",
      "execution_count": 4,
      "id": "ybU95S503ykc",
      "metadata": {
        "id": "ybU95S503ykc"
      },
      "outputs": [],
      "source": [
        "import classiq\n",
        "classiq.authenticate()"
      ]
    },
    {
      "cell_type": "markdown",
      "id": "e7682d31-1cf2-4c6d-98b7-75fadfefb6bc",
      "metadata": {
        "id": "e7682d31-1cf2-4c6d-98b7-75fadfefb6bc"
      },
      "source": [
        "# High level quantum programming with Classiq"
      ]
    },
    {
      "cell_type": "markdown",
      "id": "01dfc0bf-5fdb-4d52-8fb4-168fc930aaff",
      "metadata": {
        "id": "01dfc0bf-5fdb-4d52-8fb4-168fc930aaff"
      },
      "source": [
        "**Welcome to the Classiq Workshop for the QSITE 2024!**\n",
        "\n",
        "The topic of this presentation is:\n",
        "\n",
        "- **High level quantum programming with Classiq**\n",
        "\n",
        "**[Classiq's documentation](https://docs.classiq.io/latest/)**\n",
        "\n",
        "\n",
        "\n",
        "\n",
        "Additional resources you should use are\n",
        "- The IDE of the classiq platform at [platform.classiq.io](https://platform.classiq.io)\n",
        "- The [community Slack of Classiq](https://short.classiq.io/join-slack) - Classiq's team will answer any question you have over there, including implementation questions\n",
        "- Our [GitHub repository](https://github.com/Classiq/classiq-library/tree/main)\n",
        "\n",
        "  \n",
        "**Good luck!**"
      ]
    },
    {
      "cell_type": "markdown",
      "id": "4962a36e-bf41-48a2-9ad0-cbae90f43d98",
      "metadata": {
        "id": "4962a36e-bf41-48a2-9ad0-cbae90f43d98"
      },
      "source": [
        "## The beggining: Quantum functions and Quantum variables"
      ]
    },
    {
      "cell_type": "markdown",
      "id": "30587afe-3f19-4c1d-9f88-4a9083e3a158",
      "metadata": {
        "id": "30587afe-3f19-4c1d-9f88-4a9083e3a158"
      },
      "source": [
        "The simplest quantum object is a single qubit, representing the values 0 or 1 when measured. Other types of quantum objects are stored on multiple qubits and represent numeric values or arrays of qubits.\n",
        "\n",
        "Quantum objects are managed in Qmod using quantum variables. Variables are introduced into the scope of a quantum function through the declaration of arguments or the declaration of local variables.\n",
        "\n",
        "A quantum variable establishes its reference to some object by explicitly initializing it. This is often done by passing it as the output argument of a function, such as `allocate()`. Once initialized, the state of the variable can be modified.\n",
        "\n",
        "Quantum functions are functions that depends on quantum variables, and are defined as regular functions in python after using the decorator `@qfunc`.\n",
        "\n",
        "<details>\n",
        "<summary> Types of Quantum Variables </summary>\n",
        "In Qmod there are 3 types of quantum variables:\n",
        "\n",
        "1. `QBit` (`qbit`)\n",
        "2. `QArray[QBit]` (`qbit[]`)\n",
        "3. `QNum` (`qnum`)\n",
        "\n",
        "(See also [Quantum Variables](https://nightly.docs.classiq.io/latest/classiq_101/classiq_concepts/design/quantum_variables_and_functions/))\n",
        "</details>"
      ]
    },
    {
      "cell_type": "code",
      "execution_count": 5,
      "id": "q58PwllgW2rb",
      "metadata": {
        "id": "q58PwllgW2rb"
      },
      "outputs": [],
      "source": [
        "from classiq import *"
      ]
    },
    {
      "cell_type": "markdown",
      "id": "F1Jn-eldW7Jq",
      "metadata": {
        "id": "F1Jn-eldW7Jq"
      },
      "source": [
        "## Example: The $|-\\rangle$ state\n",
        "\n",
        "The $|-\\rangle$, also known as the \"minus state\", is important in quantum computing: It generates an equiprobable superposition of the computational basis, while having a negative phase between the states.\n",
        "\n",
        "Using Classiq, you can build a function that prepare the minus state in four lines:"
      ]
    },
    {
      "cell_type": "code",
      "execution_count": 6,
      "id": "-o-TUx87UhuP",
      "metadata": {
        "id": "-o-TUx87UhuP"
      },
      "outputs": [],
      "source": [
        "@qfunc\n",
        "def prepare_minus(q:QBit):\n",
        "  X(q)\n",
        "  H(q)"
      ]
    },
    {
      "cell_type": "markdown",
      "id": "YGdGi7d1axNA",
      "metadata": {
        "id": "YGdGi7d1axNA"
      },
      "source": [
        "And synthesize it:"
      ]
    },
    {
      "cell_type": "code",
      "execution_count": 7,
      "id": "4toFfhY7VVHw",
      "metadata": {
        "id": "4toFfhY7VVHw"
      },
      "outputs": [
        {
          "ename": "ClassiqAPIError",
          "evalue": "Call to API failed with code 401: Not authenticated\nIf you need further assistance, please reach out on our Community Slack channel at: https://short.classiq.io/join-slack",
          "output_type": "error",
          "traceback": [
            "\u001b[0;31m---------------------------------------------------------------------------\u001b[0m",
            "\u001b[0;31mClassiqAPIError\u001b[0m                           Traceback (most recent call last)",
            "Cell \u001b[0;32mIn[7], line 7\u001b[0m\n\u001b[1;32m      4\u001b[0m   prepare_minus(q)\n\u001b[1;32m      6\u001b[0m qmod \u001b[38;5;241m=\u001b[39m create_model(main)\n\u001b[0;32m----> 7\u001b[0m qprog \u001b[38;5;241m=\u001b[39m \u001b[43msynthesize\u001b[49m\u001b[43m(\u001b[49m\u001b[43mqmod\u001b[49m\u001b[43m)\u001b[49m\n",
            "File \u001b[0;32m~/.local/lib/python3.10/site-packages/classiq/synthesis.py:62\u001b[0m, in \u001b[0;36msynthesize\u001b[0;34m(serialized_model, auto_show)\u001b[0m\n\u001b[1;32m     48\u001b[0m \u001b[38;5;28;01mdef\u001b[39;00m \u001b[38;5;21msynthesize\u001b[39m(\n\u001b[1;32m     49\u001b[0m     serialized_model: SerializedModel, auto_show: \u001b[38;5;28mbool\u001b[39m \u001b[38;5;241m=\u001b[39m \u001b[38;5;28;01mFalse\u001b[39;00m\n\u001b[1;32m     50\u001b[0m ) \u001b[38;5;241m-\u001b[39m\u001b[38;5;241m>\u001b[39m SerializedQuantumProgram:\n\u001b[1;32m     51\u001b[0m     \u001b[38;5;124;03m\"\"\"\u001b[39;00m\n\u001b[1;32m     52\u001b[0m \u001b[38;5;124;03m    Synthesize a model with the Classiq engine to receive a quantum program.\u001b[39;00m\n\u001b[1;32m     53\u001b[0m \u001b[38;5;124;03m    [More details](https://docs.classiq.io/latest/reference-manual/synthesis/)\u001b[39;00m\n\u001b[0;32m   (...)\u001b[0m\n\u001b[1;32m     60\u001b[0m \u001b[38;5;124;03m        SerializedQuantumProgram: Quantum program serialized as a string. (See: QuantumProgram)\u001b[39;00m\n\u001b[1;32m     61\u001b[0m \u001b[38;5;124;03m    \"\"\"\u001b[39;00m\n\u001b[0;32m---> 62\u001b[0m     result \u001b[38;5;241m=\u001b[39m \u001b[43masync_utils\u001b[49m\u001b[38;5;241;43m.\u001b[39;49m\u001b[43mrun\u001b[49m\u001b[43m(\u001b[49m\u001b[43msynthesize_async\u001b[49m\u001b[43m(\u001b[49m\u001b[43mserialized_model\u001b[49m\u001b[43m)\u001b[49m\u001b[43m)\u001b[49m\n\u001b[1;32m     63\u001b[0m     \u001b[38;5;28;01mif\u001b[39;00m auto_show:\n\u001b[1;32m     64\u001b[0m         show(result)\n",
            "File \u001b[0;32m~/.local/lib/python3.10/site-packages/classiq/_internals/async_utils.py:39\u001b[0m, in \u001b[0;36mrun\u001b[0;34m(coro)\u001b[0m\n\u001b[1;32m     34\u001b[0m \u001b[38;5;28;01mdef\u001b[39;00m \u001b[38;5;21mrun\u001b[39m(coro: Awaitable[T]) \u001b[38;5;241m-\u001b[39m\u001b[38;5;241m>\u001b[39m T:\n\u001b[1;32m     35\u001b[0m     \u001b[38;5;66;03m# Use this function instead of asyncio.run, since it ALWAYS\u001b[39;00m\n\u001b[1;32m     36\u001b[0m     \u001b[38;5;66;03m# creates a new event loop and clears the thread event loop.\u001b[39;00m\n\u001b[1;32m     37\u001b[0m     \u001b[38;5;66;03m# Never use asyncio.run in library code.\u001b[39;00m\n\u001b[1;32m     38\u001b[0m     loop \u001b[38;5;241m=\u001b[39m get_event_loop()\n\u001b[0;32m---> 39\u001b[0m     \u001b[38;5;28;01mreturn\u001b[39;00m \u001b[43mloop\u001b[49m\u001b[38;5;241;43m.\u001b[39;49m\u001b[43mrun_until_complete\u001b[49m\u001b[43m(\u001b[49m\u001b[43mcoro\u001b[49m\u001b[43m)\u001b[49m\n",
            "File \u001b[0;32m~/.local/lib/python3.10/site-packages/nest_asyncio.py:98\u001b[0m, in \u001b[0;36m_patch_loop.<locals>.run_until_complete\u001b[0;34m(self, future)\u001b[0m\n\u001b[1;32m     95\u001b[0m \u001b[38;5;28;01mif\u001b[39;00m \u001b[38;5;129;01mnot\u001b[39;00m f\u001b[38;5;241m.\u001b[39mdone():\n\u001b[1;32m     96\u001b[0m     \u001b[38;5;28;01mraise\u001b[39;00m \u001b[38;5;167;01mRuntimeError\u001b[39;00m(\n\u001b[1;32m     97\u001b[0m         \u001b[38;5;124m'\u001b[39m\u001b[38;5;124mEvent loop stopped before Future completed.\u001b[39m\u001b[38;5;124m'\u001b[39m)\n\u001b[0;32m---> 98\u001b[0m \u001b[38;5;28;01mreturn\u001b[39;00m \u001b[43mf\u001b[49m\u001b[38;5;241;43m.\u001b[39;49m\u001b[43mresult\u001b[49m\u001b[43m(\u001b[49m\u001b[43m)\u001b[49m\n",
            "File \u001b[0;32m/usr/lib/python3.10/asyncio/futures.py:201\u001b[0m, in \u001b[0;36mFuture.result\u001b[0;34m(self)\u001b[0m\n\u001b[1;32m    199\u001b[0m \u001b[38;5;28mself\u001b[39m\u001b[38;5;241m.\u001b[39m__log_traceback \u001b[38;5;241m=\u001b[39m \u001b[38;5;28;01mFalse\u001b[39;00m\n\u001b[1;32m    200\u001b[0m \u001b[38;5;28;01mif\u001b[39;00m \u001b[38;5;28mself\u001b[39m\u001b[38;5;241m.\u001b[39m_exception \u001b[38;5;129;01mis\u001b[39;00m \u001b[38;5;129;01mnot\u001b[39;00m \u001b[38;5;28;01mNone\u001b[39;00m:\n\u001b[0;32m--> 201\u001b[0m     \u001b[38;5;28;01mraise\u001b[39;00m \u001b[38;5;28mself\u001b[39m\u001b[38;5;241m.\u001b[39m_exception\u001b[38;5;241m.\u001b[39mwith_traceback(\u001b[38;5;28mself\u001b[39m\u001b[38;5;241m.\u001b[39m_exception_tb)\n\u001b[1;32m    202\u001b[0m \u001b[38;5;28;01mreturn\u001b[39;00m \u001b[38;5;28mself\u001b[39m\u001b[38;5;241m.\u001b[39m_result\n",
            "File \u001b[0;32m/usr/lib/python3.10/asyncio/tasks.py:232\u001b[0m, in \u001b[0;36mTask.__step\u001b[0;34m(***failed resolving arguments***)\u001b[0m\n\u001b[1;32m    228\u001b[0m \u001b[38;5;28;01mtry\u001b[39;00m:\n\u001b[1;32m    229\u001b[0m     \u001b[38;5;28;01mif\u001b[39;00m exc \u001b[38;5;129;01mis\u001b[39;00m \u001b[38;5;28;01mNone\u001b[39;00m:\n\u001b[1;32m    230\u001b[0m         \u001b[38;5;66;03m# We use the `send` method directly, because coroutines\u001b[39;00m\n\u001b[1;32m    231\u001b[0m         \u001b[38;5;66;03m# don't have `__iter__` and `__next__` methods.\u001b[39;00m\n\u001b[0;32m--> 232\u001b[0m         result \u001b[38;5;241m=\u001b[39m \u001b[43mcoro\u001b[49m\u001b[38;5;241;43m.\u001b[39;49m\u001b[43msend\u001b[49m\u001b[43m(\u001b[49m\u001b[38;5;28;43;01mNone\u001b[39;49;00m\u001b[43m)\u001b[49m\n\u001b[1;32m    233\u001b[0m     \u001b[38;5;28;01melse\u001b[39;00m:\n\u001b[1;32m    234\u001b[0m         result \u001b[38;5;241m=\u001b[39m coro\u001b[38;5;241m.\u001b[39mthrow(exc)\n",
            "File \u001b[0;32m~/.local/lib/python3.10/site-packages/classiq/synthesis.py:44\u001b[0m, in \u001b[0;36msynthesize_async\u001b[0;34m(serialized_model)\u001b[0m\n\u001b[1;32m     40\u001b[0m \u001b[38;5;28;01masync\u001b[39;00m \u001b[38;5;28;01mdef\u001b[39;00m \u001b[38;5;21msynthesize_async\u001b[39m(\n\u001b[1;32m     41\u001b[0m     serialized_model: SerializedModel,\n\u001b[1;32m     42\u001b[0m ) \u001b[38;5;241m-\u001b[39m\u001b[38;5;241m>\u001b[39m SerializedQuantumProgram:\n\u001b[1;32m     43\u001b[0m     model \u001b[38;5;241m=\u001b[39m pydantic\u001b[38;5;241m.\u001b[39mparse_raw_as(Model, serialized_model)\n\u001b[0;32m---> 44\u001b[0m     quantum_program \u001b[38;5;241m=\u001b[39m \u001b[38;5;28;01mawait\u001b[39;00m ApiWrapper\u001b[38;5;241m.\u001b[39mcall_generation_task(model)\n\u001b[1;32m     45\u001b[0m     \u001b[38;5;28;01mreturn\u001b[39;00m SerializedQuantumProgram(quantum_program\u001b[38;5;241m.\u001b[39mjson(indent\u001b[38;5;241m=\u001b[39m\u001b[38;5;241m2\u001b[39m))\n",
            "File \u001b[0;32m~/.local/lib/python3.10/site-packages/classiq/_internals/api_wrapper.py:106\u001b[0m, in \u001b[0;36mApiWrapper.call_generation_task\u001b[0;34m(cls, model)\u001b[0m\n\u001b[1;32m    101\u001b[0m \u001b[38;5;129m@classmethod\u001b[39m\n\u001b[1;32m    102\u001b[0m \u001b[38;5;28;01masync\u001b[39;00m \u001b[38;5;28;01mdef\u001b[39;00m \u001b[38;5;21mcall_generation_task\u001b[39m(\n\u001b[1;32m    103\u001b[0m     \u001b[38;5;28mcls\u001b[39m, model: Model\n\u001b[1;32m    104\u001b[0m ) \u001b[38;5;241m-\u001b[39m\u001b[38;5;241m>\u001b[39m generator_result\u001b[38;5;241m.\u001b[39mQuantumProgram:\n\u001b[1;32m    105\u001b[0m     poller \u001b[38;5;241m=\u001b[39m JobPoller(base_url\u001b[38;5;241m=\u001b[39mroutes\u001b[38;5;241m.\u001b[39mTASKS_GENERATE_FULL_PATH)\n\u001b[0;32m--> 106\u001b[0m     result \u001b[38;5;241m=\u001b[39m \u001b[38;5;28;01mawait\u001b[39;00m poller\u001b[38;5;241m.\u001b[39mrun_pydantic(model, timeout_sec\u001b[38;5;241m=\u001b[39m\u001b[38;5;28;01mNone\u001b[39;00m)\n\u001b[1;32m    107\u001b[0m     \u001b[38;5;28;01mreturn\u001b[39;00m _parse_job_response(result, generator_result\u001b[38;5;241m.\u001b[39mQuantumProgram)\n",
            "File \u001b[0;32m~/.local/lib/python3.10/site-packages/classiq/_internals/jobs.py:175\u001b[0m, in \u001b[0;36mJobPoller.run_pydantic\u001b[0;34m(self, model, timeout_sec)\u001b[0m\n\u001b[1;32m    168\u001b[0m \u001b[38;5;28;01masync\u001b[39;00m \u001b[38;5;28;01mdef\u001b[39;00m \u001b[38;5;21mrun_pydantic\u001b[39m(\n\u001b[1;32m    169\u001b[0m     \u001b[38;5;28mself\u001b[39m, model: pydantic\u001b[38;5;241m.\u001b[39mBaseModel, timeout_sec: Optional[\u001b[38;5;28mfloat\u001b[39m]\n\u001b[1;32m    170\u001b[0m ) \u001b[38;5;241m-\u001b[39m\u001b[38;5;241m>\u001b[39m GeneralJobDescription:\n\u001b[1;32m    171\u001b[0m     \u001b[38;5;66;03m# TODO: we can't use model.dict() - it doesn't serialize complex class.\u001b[39;00m\n\u001b[1;32m    172\u001b[0m     \u001b[38;5;66;03m# This was added because JSON serializer doesn't serialize complex and UUID,\u001b[39;00m\n\u001b[1;32m    173\u001b[0m     \u001b[38;5;66;03m# while pydantic does. We should add support for smarter json serialization.\u001b[39;00m\n\u001b[1;32m    174\u001b[0m     body \u001b[38;5;241m=\u001b[39m json\u001b[38;5;241m.\u001b[39mloads(model\u001b[38;5;241m.\u001b[39mjson())\n\u001b[0;32m--> 175\u001b[0m     \u001b[38;5;28;01mreturn\u001b[39;00m \u001b[38;5;28;01mawait\u001b[39;00m \u001b[38;5;28mself\u001b[39m\u001b[38;5;241m.\u001b[39mrun(body, timeout_sec)\n",
            "File \u001b[0;32m~/.local/lib/python3.10/site-packages/classiq/_internals/jobs.py:158\u001b[0m, in \u001b[0;36mJobPoller.run\u001b[0;34m(self, body, timeout_sec)\u001b[0m\n\u001b[1;32m    154\u001b[0m \u001b[38;5;28;01masync\u001b[39;00m \u001b[38;5;28;01mdef\u001b[39;00m \u001b[38;5;21mrun\u001b[39m(\n\u001b[1;32m    155\u001b[0m     \u001b[38;5;28mself\u001b[39m, body: Dict, timeout_sec: Optional[\u001b[38;5;28mfloat\u001b[39m]\n\u001b[1;32m    156\u001b[0m ) \u001b[38;5;241m-\u001b[39m\u001b[38;5;241m>\u001b[39m GeneralJobDescription:\n\u001b[1;32m    157\u001b[0m     \u001b[38;5;28;01masync\u001b[39;00m \u001b[38;5;28;01mwith\u001b[39;00m \u001b[38;5;28mself\u001b[39m\u001b[38;5;241m.\u001b[39m_async_client:\n\u001b[0;32m--> 158\u001b[0m         submit_response \u001b[38;5;241m=\u001b[39m \u001b[38;5;28;01mawait\u001b[39;00m \u001b[38;5;28mself\u001b[39m\u001b[38;5;241m.\u001b[39m_submit(body\u001b[38;5;241m=\u001b[39mbody)\n\u001b[1;32m    159\u001b[0m         job_id \u001b[38;5;241m=\u001b[39m \u001b[38;5;28mself\u001b[39m\u001b[38;5;241m.\u001b[39m_parse_job_id_response(response\u001b[38;5;241m=\u001b[39msubmit_response)\n\u001b[1;32m    160\u001b[0m         poll_url \u001b[38;5;241m=\u001b[39m \u001b[38;5;28mself\u001b[39m\u001b[38;5;241m.\u001b[39m_make_poll_url(job_id\u001b[38;5;241m=\u001b[39mjob_id)\n",
            "File \u001b[0;32m~/.local/lib/python3.10/site-packages/classiq/_internals/jobs.py:102\u001b[0m, in \u001b[0;36mJobPoller._submit\u001b[0;34m(self, body)\u001b[0m\n\u001b[1;32m    101\u001b[0m \u001b[38;5;28;01masync\u001b[39;00m \u001b[38;5;28;01mdef\u001b[39;00m \u001b[38;5;21m_submit\u001b[39m(\u001b[38;5;28mself\u001b[39m, body: Dict) \u001b[38;5;241m-\u001b[39m\u001b[38;5;241m>\u001b[39m httpx\u001b[38;5;241m.\u001b[39mResponse:\n\u001b[0;32m--> 102\u001b[0m     \u001b[38;5;28;01mreturn\u001b[39;00m \u001b[38;5;28;01mawait\u001b[39;00m \u001b[38;5;28mself\u001b[39m\u001b[38;5;241m.\u001b[39m_request(http_method\u001b[38;5;241m=\u001b[39m\u001b[38;5;124m\"\u001b[39m\u001b[38;5;124mPOST\u001b[39m\u001b[38;5;124m\"\u001b[39m, url\u001b[38;5;241m=\u001b[39m\u001b[38;5;28mself\u001b[39m\u001b[38;5;241m.\u001b[39m_base_url, body\u001b[38;5;241m=\u001b[39mbody)\n",
            "File \u001b[0;32m~/.local/lib/python3.10/site-packages/classiq/_internals/client.py:114\u001b[0m, in \u001b[0;36mtry_again_on_failure.<locals>.wrapper\u001b[0;34m(*args, **kwargs)\u001b[0m\n\u001b[1;32m    112\u001b[0m \u001b[38;5;28;01mfor\u001b[39;00m i \u001b[38;5;129;01min\u001b[39;00m \u001b[38;5;28mrange\u001b[39m(_RETRY_COUNT):\n\u001b[1;32m    113\u001b[0m     \u001b[38;5;28;01mtry\u001b[39;00m:\n\u001b[0;32m--> 114\u001b[0m         \u001b[38;5;28;01mreturn\u001b[39;00m \u001b[38;5;28;01mawait\u001b[39;00m func(\u001b[38;5;241m*\u001b[39margs, \u001b[38;5;241m*\u001b[39m\u001b[38;5;241m*\u001b[39mkwargs)\n\u001b[1;32m    115\u001b[0m     \u001b[38;5;28;01mexcept\u001b[39;00m ClassiqExpiredTokenError:\n\u001b[1;32m    116\u001b[0m         _logger\u001b[38;5;241m.\u001b[39minfo(\n\u001b[1;32m    117\u001b[0m             \u001b[38;5;124m\"\u001b[39m\u001b[38;5;124mToken expired when trying to \u001b[39m\u001b[38;5;132;01m%s\u001b[39;00m\u001b[38;5;124m with args \u001b[39m\u001b[38;5;132;01m%s\u001b[39;00m\u001b[38;5;124m \u001b[39m\u001b[38;5;132;01m%s\u001b[39;00m\u001b[38;5;124m\"\u001b[39m,\n\u001b[1;32m    118\u001b[0m             func,\n\u001b[0;32m   (...)\u001b[0m\n\u001b[1;32m    121\u001b[0m             exc_info\u001b[38;5;241m=\u001b[39m\u001b[38;5;28;01mTrue\u001b[39;00m,\n\u001b[1;32m    122\u001b[0m         )\n",
            "File \u001b[0;32m~/.local/lib/python3.10/site-packages/classiq/_internals/jobs.py:98\u001b[0m, in \u001b[0;36mJobPoller._request\u001b[0;34m(self, http_method, url, body)\u001b[0m\n\u001b[1;32m     94\u001b[0m \u001b[38;5;28mself\u001b[39m\u001b[38;5;241m.\u001b[39m_async_client\u001b[38;5;241m.\u001b[39mheaders\u001b[38;5;241m.\u001b[39mupdate(client()\u001b[38;5;241m.\u001b[39mget_headers())\n\u001b[1;32m     95\u001b[0m response \u001b[38;5;241m=\u001b[39m \u001b[38;5;28;01mawait\u001b[39;00m \u001b[38;5;28mself\u001b[39m\u001b[38;5;241m.\u001b[39m_async_client\u001b[38;5;241m.\u001b[39mrequest(\n\u001b[1;32m     96\u001b[0m     method\u001b[38;5;241m=\u001b[39mhttp_method, url\u001b[38;5;241m=\u001b[39murl, json\u001b[38;5;241m=\u001b[39mbody, headers\u001b[38;5;241m=\u001b[39m\u001b[38;5;28mself\u001b[39m\u001b[38;5;241m.\u001b[39m_additional_headers\n\u001b[1;32m     97\u001b[0m )\n\u001b[0;32m---> 98\u001b[0m \u001b[43mclient\u001b[49m\u001b[43m(\u001b[49m\u001b[43m)\u001b[49m\u001b[38;5;241;43m.\u001b[39;49m\u001b[43mhandle_response\u001b[49m\u001b[43m(\u001b[49m\u001b[43mresponse\u001b[49m\u001b[43m)\u001b[49m\n\u001b[1;32m     99\u001b[0m \u001b[38;5;28;01mreturn\u001b[39;00m response\n",
            "File \u001b[0;32m~/.local/lib/python3.10/site-packages/classiq/_internals/client.py:187\u001b[0m, in \u001b[0;36mClient.handle_response\u001b[0;34m(self, response)\u001b[0m\n\u001b[1;32m    185\u001b[0m \u001b[38;5;28mself\u001b[39m\u001b[38;5;241m.\u001b[39m_handle_warnings(response)\n\u001b[1;32m    186\u001b[0m \u001b[38;5;28;01mif\u001b[39;00m response\u001b[38;5;241m.\u001b[39mis_error:\n\u001b[0;32m--> 187\u001b[0m     \u001b[38;5;28;43mself\u001b[39;49m\u001b[38;5;241;43m.\u001b[39;49m\u001b[43m_handle_error\u001b[49m\u001b[43m(\u001b[49m\u001b[43mresponse\u001b[49m\u001b[43m)\u001b[49m\n\u001b[1;32m    188\u001b[0m \u001b[38;5;28mself\u001b[39m\u001b[38;5;241m.\u001b[39m_handle_success(response)\n",
            "File \u001b[0;32m~/.local/lib/python3.10/site-packages/classiq/_internals/client.py:206\u001b[0m, in \u001b[0;36mClient._handle_error\u001b[0;34m(response)\u001b[0m\n\u001b[1;32m    204\u001b[0m \u001b[38;5;28;01mexcept\u001b[39;00m \u001b[38;5;167;01mException\u001b[39;00m:  \u001b[38;5;66;03m# noqa: S110\u001b[39;00m\n\u001b[1;32m    205\u001b[0m     \u001b[38;5;28;01mpass\u001b[39;00m\n\u001b[0;32m--> 206\u001b[0m \u001b[38;5;28;01mraise\u001b[39;00m ClassiqAPIError(message)\n",
            "\u001b[0;31mClassiqAPIError\u001b[0m: Call to API failed with code 401: Not authenticated\nIf you need further assistance, please reach out on our Community Slack channel at: https://short.classiq.io/join-slack"
          ]
        }
      ],
      "source": [
        "@qfunc\n",
        "def main(q:Output[QBit]):\n",
        "  allocate(1,q)\n",
        "  prepare_minus(q)\n",
        "\n",
        "qmod = create_model(main)\n",
        "qprog = synthesize(qmod)"
      ]
    },
    {
      "cell_type": "markdown",
      "id": "t5VGQcPBbNMW",
      "metadata": {
        "id": "t5VGQcPBbNMW"
      },
      "source": [
        "You can use the IDE to analyze your quantum program using the `show` command:"
      ]
    },
    {
      "cell_type": "code",
      "execution_count": null,
      "id": "QRObWW4rbVK0",
      "metadata": {
        "id": "QRObWW4rbVK0"
      },
      "outputs": [],
      "source": [
        "show(qprog)"
      ]
    },
    {
      "cell_type": "markdown",
      "id": "zVs_E60nd2xG",
      "metadata": {
        "id": "zVs_E60nd2xG"
      },
      "source": [
        "## Before the next step: Guidelines for High-Level Functional Design with Classiq"
      ]
    },
    {
      "cell_type": "markdown",
      "id": "SDwMWhfjeP6B",
      "metadata": {
        "id": "SDwMWhfjeP6B"
      },
      "source": [
        "**Some basic explanations about the high-level functional design with Classiq:**\n",
        "\n",
        "* There should always be a `main` function - the model that captures your algorithm is described there\n",
        "\n",
        "* The model is always generated out of the main function\n",
        "\n",
        "* The model is sent to the synthesis engine (compiler) that return a quantum program which contains the quantum circuit"
      ]
    },
    {
      "cell_type": "markdown",
      "id": "_gcu_SRaeSP-",
      "metadata": {
        "id": "_gcu_SRaeSP-"
      },
      "source": [
        "**Some basic guidelines about the modeling language (QMOD):**\n",
        "\n",
        "1. Every quantum variable should be declared, either as an argument of a function e.g. `def prepare_minus(x: QBit)` or as a local variable within the function itself with `x = QBit('x')`\n",
        "\n",
        "2. Some quantum variables need to be initialized with the `allocate` function. This is required in 2 cases:\n",
        "* A variable is an argument of a function with the declaration `Output` like `def main(x: Output[QNum])`\n",
        "* A variable that was declared within a function like `a = QNum('a')`\n",
        "\n",
        "3. For the `main` function, you will always use `Output` for all variables. The `output` indicates that these quantum variables are not initialized outside the scope of the function.\n"
      ]
    },
    {
      "cell_type": "markdown",
      "id": "z-oN_0yMeWY5",
      "metadata": {
        "id": "z-oN_0yMeWY5"
      },
      "source": [
        "<details>\n",
        "<summary> Types of Initializations </summary>\n",
        "There are a few ways to initialize a quantum variable:\n",
        "\n",
        "1. With `allocate` or `allocate_num`\n",
        "2. With `prepare_int`, `prepare_state` or `prepare_amplitudes`\n",
        "3. As the result of a numeric operation `|=`\n",
        "4. With the `bind` operation (`->` in native)\n",
        "5. With any function that declares its quantum variable argument as `output`\n",
        "\n",
        "</details>"
      ]
    },
    {
      "cell_type": "markdown",
      "id": "5O5MY_U_fNKL",
      "metadata": {
        "id": "5O5MY_U_fNKL"
      },
      "source": [
        "# Tutorial 1: Preparing a state"
      ]
    },
    {
      "cell_type": "markdown",
      "id": "3UD0p2effReF",
      "metadata": {
        "id": "3UD0p2effReF"
      },
      "source": [
        "Preparing specific states is mandatory in most quantum algorithms. With this in mind, it is important to know how to prepare the initial state of a quantum program using the function `prepare_state`.\n",
        "\n",
        "Given a superposition of states with real, positive $\\{c_i\\}$:\n",
        "\n",
        "$$ |\\psi\\rangle = \\sum_{i=0}^{N} c_i |i\\rangle $$\n",
        "\n",
        "one can associate it to a probability list\n",
        "\n",
        "$$P = [|c_0|^2,|c_1|^2,\\dots,|c_{N}|^2]$$\n",
        "\n",
        "Lets see an example using 3 qubits:\n"
      ]
    },
    {
      "cell_type": "code",
      "execution_count": null,
      "id": "L8wOJqvxhEDZ",
      "metadata": {
        "id": "L8wOJqvxhEDZ"
      },
      "outputs": [],
      "source": [
        "prob_list = [0.1, 0.2, 0.3, 0, 0 , 0, 0, 0.4]\n",
        "@qfunc\n",
        "def main(q:Output[QArray[QBit]]):\n",
        "  prepare_state(probabilities=prob_list, bound=0.01, out = q)\n",
        "\n",
        "qmod = create_model(main)\n",
        "qprog = synthesize(qmod)\n",
        "show(qprog)"
      ]
    },
    {
      "cell_type": "markdown",
      "id": "qnr_QWXMjX1V",
      "metadata": {
        "id": "qnr_QWXMjX1V"
      },
      "source": [
        "You can use also the `inplace_prepare_state` function when you need to execute the quantum operation necessary to prepare the state in the middle of your quantum program."
      ]
    },
    {
      "cell_type": "markdown",
      "id": "GH3oaUv_kRFF",
      "metadata": {
        "id": "GH3oaUv_kRFF"
      },
      "source": [
        "## Another example: `inplace_prepare_state` and `prepare_state`\n",
        "\n",
        "Now lets execute the operation necessary to prepare the state given by the probabilities\n",
        "\n",
        "$$P = [0.625, 0, 0, 0, 0.125, 0.125, 0.125, 0]$$\n",
        "\n",
        "in the state generated through `prob_list`:"
      ]
    },
    {
      "cell_type": "code",
      "execution_count": null,
      "id": "wbCrDVbjjFDU",
      "metadata": {
        "id": "wbCrDVbjjFDU"
      },
      "outputs": [],
      "source": [
        "prob_list2 = [0.625, 0, 0, 0, 0.125, 0.125, 0.125, 0]\n",
        "@qfunc\n",
        "def main(q:Output[QArray[QBit]]):\n",
        "  prepare_state(probabilities=prob_list, bound=0.01, out = q)\n",
        "  inplace_prepare_state(probabilities=prob_list2, bound= 0.01, target=q)\n",
        "\n",
        "qmod = create_model(main)\n",
        "qprog = synthesize(qmod)\n",
        "show(qprog)"
      ]
    },
    {
      "cell_type": "markdown",
      "id": "-t8SA8Vfl_OI",
      "metadata": {
        "id": "-t8SA8Vfl_OI"
      },
      "source": [
        "# Tutorial 2: Circuit optimization and arithmetic expressions.\n",
        "\n",
        "Knowing what is the optimal number of gates or qubits in a quantum program are important informations that you can easily execute using the optimization tools in Classiq. Another important tool is the ability to realize arithmetic expressions.\n",
        "\n",
        "To see the functionality of these tools, lets work on the problem of evaluating `y=x²+x+1` using a quantum program:\n"
      ]
    },
    {
      "cell_type": "code",
      "execution_count": null,
      "id": "t4NSpAtpJoOf",
      "metadata": {
        "id": "t4NSpAtpJoOf"
      },
      "outputs": [],
      "source": [
        "@qfunc\n",
        "def main(x:Output[QNum],y:Output[QNum]):\n",
        "  #Initializing the variable 'x'\n",
        "  allocate(3,x)\n",
        "  #Preparing 'x' in a superposition of all possible numbers between 0 and 7\n",
        "  apply_to_all(H,x)\n",
        "  #Evaluating the arithmetic expression\n",
        "  y |= x**2+x+1\n",
        "\n",
        "qmod = create_model(main)\n",
        "qprog = synthesize(qmod)\n",
        "show(qprog)"
      ]
    },
    {
      "cell_type": "markdown",
      "id": "CthAzG1wIW_A",
      "metadata": {
        "id": "CthAzG1wIW_A"
      },
      "source": [
        "Optimization can be done by setting constraints in your circuit or defining wheter you want to optimize the depth (number of operations) or width (number of qubits) in your quantum program. Lets try to optimize the latter program in depth with a fixed width of 9 qubits:"
      ]
    },
    {
      "cell_type": "code",
      "execution_count": null,
      "id": "HtbDASDfJ4IW",
      "metadata": {
        "id": "HtbDASDfJ4IW"
      },
      "outputs": [],
      "source": [
        "constraints = Constraints(optimization_parameter=\"depth\", max_width=9)\n",
        "\n",
        "qmod = set_constraints(qmod, constraints)\n",
        "qprog = synthesize(qmod)\n",
        "show(qprog)"
      ]
    },
    {
      "cell_type": "markdown",
      "id": "-Kd0fUeYMjy0",
      "metadata": {
        "id": "-Kd0fUeYMjy0"
      },
      "source": [
        "# Your turn: Try to finish the following quantum program\n",
        "\n",
        "Using the function `prepare_state`, initialize two quantum variables `x` and `y` in the state with probabilities `P = [0.25, 0.25, 0.25, 0.25]`. After that, evaluate the arithmetic expression\n",
        "\n",
        "$$y = 0.5x+y+(y+x)^2$$\n",
        "\n",
        "and set a quantum program optimized in depth, with a maximum width of `max_width=16`."
      ]
    },
    {
      "cell_type": "code",
      "execution_count": null,
      "id": "fa-il23KI3og",
      "metadata": {
        "id": "fa-il23KI3og"
      },
      "outputs": [],
      "source": [
        "probs = [0.25, 0.25, 0.25, 0.25]\n",
        "@qfunc\n",
        "def main(x:Output[QNum],y:Output[QNum],z:Output[QNum]):\n",
        "  #TODO: Prepare 'x' and 'y' in a superposition of all possible numbers between 0 and 3\n",
        "\n",
        "  #TODO: Evaluate the arithmetic expression\n",
        "  z |=\n",
        "\n",
        "qmod = create_model(main)\n",
        "\n",
        "constraints = Constraints(optimization_parameter=\"depth\", max_width=16)\n",
        "qmod = set_constraints(qmod, constraints)\n",
        "qprog = synthesize(qmod)\n",
        "show(qprog)"
      ]
    },
    {
      "cell_type": "code",
      "execution_count": null,
      "id": "Rxfyq6jTItvV",
      "metadata": {
        "id": "Rxfyq6jTItvV"
      },
      "outputs": [],
      "source": []
    }
  ],
  "metadata": {
    "colab": {
      "provenance": []
    },
    "kernelspec": {
      "display_name": "Python 3 (ipykernel)",
      "language": "python",
      "name": "python3"
    },
    "language_info": {
      "codemirror_mode": {
        "name": "ipython",
        "version": 3
      },
      "file_extension": ".py",
      "mimetype": "text/x-python",
      "name": "python",
      "nbconvert_exporter": "python",
      "pygments_lexer": "ipython3",
      "version": "3.10.12"
    }
  },
  "nbformat": 4,
  "nbformat_minor": 5
}
